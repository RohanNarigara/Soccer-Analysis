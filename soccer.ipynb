{
 "cells": [
  {
   "cell_type": "code",
   "execution_count": 3,
   "metadata": {},
   "outputs": [],
   "source": [
    "import pandas as pd\n",
    "import numpy as np\n",
    "import matplotlib.pyplot as plt\n",
    "import seaborn as sns\n",
    "import warnings\n",
    "warnings.filterwarnings(\"ignore\")"
   ]
  },
  {
   "cell_type": "code",
   "execution_count": 4,
   "metadata": {},
   "outputs": [],
   "source": [
    "data = pd.read_csv('D:\\Learning\\Soccer\\passes.csv')"
   ]
  },
  {
   "cell_type": "code",
   "execution_count": 5,
   "metadata": {},
   "outputs": [
    {
     "data": {
      "text/html": [
       "<div>\n",
       "<style scoped>\n",
       "    .dataframe tbody tr th:only-of-type {\n",
       "        vertical-align: middle;\n",
       "    }\n",
       "\n",
       "    .dataframe tbody tr th {\n",
       "        vertical-align: top;\n",
       "    }\n",
       "\n",
       "    .dataframe thead th {\n",
       "        text-align: right;\n",
       "    }\n",
       "</style>\n",
       "<table border=\"1\" class=\"dataframe\">\n",
       "  <thead>\n",
       "    <tr style=\"text-align: right;\">\n",
       "      <th></th>\n",
       "      <th>game_id;passing_quote;winner</th>\n",
       "    </tr>\n",
       "  </thead>\n",
       "  <tbody>\n",
       "    <tr>\n",
       "      <th>0</th>\n",
       "      <td>11;72;No</td>\n",
       "    </tr>\n",
       "    <tr>\n",
       "      <th>1</th>\n",
       "      <td>11;91;Yes</td>\n",
       "    </tr>\n",
       "    <tr>\n",
       "      <th>2</th>\n",
       "      <td>12;82;Yes</td>\n",
       "    </tr>\n",
       "    <tr>\n",
       "      <th>3</th>\n",
       "      <td>12;86;No</td>\n",
       "    </tr>\n",
       "    <tr>\n",
       "      <th>4</th>\n",
       "      <td>13;82;Yes</td>\n",
       "    </tr>\n",
       "  </tbody>\n",
       "</table>\n",
       "</div>"
      ],
      "text/plain": [
       "  game_id;passing_quote;winner\n",
       "0                     11;72;No\n",
       "1                    11;91;Yes\n",
       "2                    12;82;Yes\n",
       "3                     12;86;No\n",
       "4                    13;82;Yes"
      ]
     },
     "execution_count": 5,
     "metadata": {},
     "output_type": "execute_result"
    }
   ],
   "source": [
    "data.head()"
   ]
  },
  {
   "cell_type": "code",
   "execution_count": 6,
   "metadata": {},
   "outputs": [],
   "source": [
    "data = pd.read_csv('D:\\Learning\\Soccer\\passes.csv', delimiter=';')"
   ]
  },
  {
   "cell_type": "code",
   "execution_count": 7,
   "metadata": {},
   "outputs": [
    {
     "name": "stdout",
     "output_type": "stream",
     "text": [
      "<class 'pandas.core.frame.DataFrame'>\n",
      "RangeIndex: 306 entries, 0 to 305\n",
      "Data columns (total 3 columns):\n",
      " #   Column         Non-Null Count  Dtype  \n",
      "---  ------         --------------  -----  \n",
      " 0   game_id        306 non-null    int64  \n",
      " 1   passing_quote  304 non-null    float64\n",
      " 2   winner         304 non-null    object \n",
      "dtypes: float64(1), int64(1), object(1)\n",
      "memory usage: 7.3+ KB\n"
     ]
    },
    {
     "data": {
      "text/plain": [
       "(   game_id  passing_quote winner\n",
       " 0       11           72.0     No\n",
       " 1       11           91.0    Yes\n",
       " 2       12           82.0    Yes\n",
       " 3       12           86.0     No\n",
       " 4       13           82.0    Yes,\n",
       " None)"
      ]
     },
     "execution_count": 7,
     "metadata": {},
     "output_type": "execute_result"
    }
   ],
   "source": [
    "data.head(), data.info()"
   ]
  },
  {
   "cell_type": "code",
   "execution_count": 8,
   "metadata": {},
   "outputs": [
    {
     "name": "stdout",
     "output_type": "stream",
     "text": [
      "<class 'pandas.core.frame.DataFrame'>\n",
      "Index: 304 entries, 0 to 305\n",
      "Data columns (total 3 columns):\n",
      " #   Column         Non-Null Count  Dtype  \n",
      "---  ------         --------------  -----  \n",
      " 0   game_id        304 non-null    int64  \n",
      " 1   passing_quote  304 non-null    float64\n",
      " 2   winner         304 non-null    object \n",
      "dtypes: float64(1), int64(1), object(1)\n",
      "memory usage: 9.5+ KB\n"
     ]
    },
    {
     "data": {
      "text/html": [
       "<div>\n",
       "<style scoped>\n",
       "    .dataframe tbody tr th:only-of-type {\n",
       "        vertical-align: middle;\n",
       "    }\n",
       "\n",
       "    .dataframe tbody tr th {\n",
       "        vertical-align: top;\n",
       "    }\n",
       "\n",
       "    .dataframe thead th {\n",
       "        text-align: right;\n",
       "    }\n",
       "</style>\n",
       "<table border=\"1\" class=\"dataframe\">\n",
       "  <thead>\n",
       "    <tr style=\"text-align: right;\">\n",
       "      <th></th>\n",
       "      <th>game_id</th>\n",
       "      <th>passing_quote</th>\n",
       "      <th>winner</th>\n",
       "    </tr>\n",
       "  </thead>\n",
       "  <tbody>\n",
       "    <tr>\n",
       "      <th>0</th>\n",
       "      <td>11</td>\n",
       "      <td>72.0</td>\n",
       "      <td>No</td>\n",
       "    </tr>\n",
       "    <tr>\n",
       "      <th>1</th>\n",
       "      <td>11</td>\n",
       "      <td>91.0</td>\n",
       "      <td>Yes</td>\n",
       "    </tr>\n",
       "    <tr>\n",
       "      <th>2</th>\n",
       "      <td>12</td>\n",
       "      <td>82.0</td>\n",
       "      <td>Yes</td>\n",
       "    </tr>\n",
       "    <tr>\n",
       "      <th>3</th>\n",
       "      <td>12</td>\n",
       "      <td>86.0</td>\n",
       "      <td>No</td>\n",
       "    </tr>\n",
       "    <tr>\n",
       "      <th>4</th>\n",
       "      <td>13</td>\n",
       "      <td>82.0</td>\n",
       "      <td>Yes</td>\n",
       "    </tr>\n",
       "  </tbody>\n",
       "</table>\n",
       "</div>"
      ],
      "text/plain": [
       "   game_id  passing_quote winner\n",
       "0       11           72.0     No\n",
       "1       11           91.0    Yes\n",
       "2       12           82.0    Yes\n",
       "3       12           86.0     No\n",
       "4       13           82.0    Yes"
      ]
     },
     "execution_count": 8,
     "metadata": {},
     "output_type": "execute_result"
    }
   ],
   "source": [
    "data_clean = data.dropna()\n",
    "\n",
    "data_clean.info()\n",
    "data_clean.head()"
   ]
  },
  {
   "cell_type": "markdown",
   "metadata": {},
   "source": [
    "### Question 1"
   ]
  },
  {
   "cell_type": "code",
   "execution_count": 15,
   "metadata": {},
   "outputs": [],
   "source": [
    "grouped_data = data.groupby([\"game_id\", \"winner\"])[\"passing_quote\"].mean().unstack()"
   ]
  },
  {
   "cell_type": "code",
   "execution_count": null,
   "metadata": {},
   "outputs": [],
   "source": [
    "mean_winner_passing_rate = grouped_data[\"Yes\"].mean()\n",
    "mean_loser_passing_rate = grouped_data[\"No\"].mean()"
   ]
  },
  {
   "cell_type": "code",
   "execution_count": 11,
   "metadata": {},
   "outputs": [
    {
     "data": {
      "image/png": "[encoded data removed]",
      "text/plain": [
       "<Figure size 800x600 with 1 Axes>"
      ]
     },
     "metadata": {},
     "output_type": "display_data"
    }
   ],
   "source": [
    "plt.figure(figsize=(8, 6))\n",
    "sns.boxplot(data=data, x=\"winner\", y=\"passing_quote\", palette=\"Set2\")\n",
    "plt.title(\"Comparison of Passing Rates: Winners vs Losers\", fontsize=14)\n",
    "plt.xlabel(\"Winner\", fontsize=12)\n",
    "plt.ylabel(\"Passing Rate\", fontsize=12)\n",
    "plt.show()"
   ]
  },
  {
   "cell_type": "markdown",
   "metadata": {},
   "source": [
    "### Questions 2"
   ]
  },
  {
   "cell_type": "code",
   "execution_count": 16,
   "metadata": {},
   "outputs": [],
   "source": [
    "grouped_data[\"difference\"] = grouped_data[\"Yes\"] - grouped_data[\"No\"]\n",
    "\n",
    "games_with_winner = grouped_data.dropna(subset=[\"difference\"])"
   ]
  },
  {
   "cell_type": "code",
   "execution_count": 15,
   "metadata": {},
   "outputs": [
    {
     "data": {
      "image/png": "[encoded data removed]",
      "text/plain": [
       "<Figure size 800x600 with 1 Axes>"
      ]
     },
     "metadata": {},
     "output_type": "display_data"
    }
   ],
   "source": [
    "grouped_data = data.groupby([\"game_id\", \"winner\"])[\"passing_quote\"].mean().unstack()\n",
    "grouped_data[\"difference\"] = grouped_data[\"Yes\"] - grouped_data[\"No\"]\n",
    "\n",
    "grouped_data[\"is_draw\"] = grouped_data[\"difference\"].isnull()\n",
    "grouped_data[\"difference\"] = grouped_data[\"difference\"].fillna(0)\n",
    "\n",
    "plt.figure(figsize=(8, 6))\n",
    "sns.histplot(data=grouped_data, x=\"difference\", hue=\"is_draw\", bins=10, kde=True, palette=\"muted\")\n",
    "plt.title(\"Distribution of Passing Rate Differences\", fontsize=14)\n",
    "plt.xlabel(\"Passing Rate Difference\", fontsize=12)\n",
    "plt.ylabel(\"Frequency\", fontsize=12)\n",
    "plt.legend(title=\"Game Result\", labels=[\"Winner\", \"Draw\"])\n",
    "plt.show()"
   ]
  },
  {
   "cell_type": "code",
   "execution_count": 16,
   "metadata": {},
   "outputs": [
    {
     "data": {
      "text/plain": [
       "(winner     No   Yes  difference  is_draw\n",
       " game_id                                 \n",
       " 11       72.0  91.0        19.0    False\n",
       " 12       86.0  82.0        -4.0    False\n",
       " 13       79.0  82.0         3.0    False\n",
       " 14       79.0  77.0        -2.0    False\n",
       " 15       81.0   NaN         0.0     True\n",
       " ...       ...   ...         ...      ...\n",
       " 175      80.0   NaN         0.0     True\n",
       " 176      76.0  91.0        15.0    False\n",
       " 177      78.0  81.0         3.0    False\n",
       " 178      73.5   NaN         0.0     True\n",
       " 179      89.0  74.0       -15.0    False\n",
       " \n",
       " [152 rows x 4 columns],\n",
       " np.float64(81.07894736842105),\n",
       " np.float64(79.0),\n",
       " np.float64(1.8157894736842106))"
      ]
     },
     "execution_count": 16,
     "metadata": {},
     "output_type": "execute_result"
    }
   ],
   "source": [
    "grouped_data, mean_winner_rate, mean_loser_rate, games_with_winner[\"difference\"].mean()"
   ]
  },
  {
   "cell_type": "markdown",
   "metadata": {},
   "source": [
    "### Hypothesis Testing"
   ]
  },
  {
   "cell_type": "markdown",
   "metadata": {},
   "source": [
    "### Question 1 Hypothesis"
   ]
  },
  {
   "cell_type": "code",
   "execution_count": 17,
   "metadata": {},
   "outputs": [
    {
     "name": "stdout",
     "output_type": "stream",
     "text": [
      "Shapiro-Wilk Test for Winners: p-value = 2.0197121733467638e-06\n",
      "Shapiro-Wilk Test for Losers: p-value = 0.0007146308719927363\n",
      "Mann-Whitney U-Test Result: Statistic = 13524.0, p-value = 0.00013921432409865386\n",
      "Reject the null hypothesis: Winners have a higher passing rate.\n"
     ]
    }
   ],
   "source": [
    "from scipy.stats import ttest_ind, mannwhitneyu, shapiro\n",
    "\n",
    "winners = data[data['winner'] == 'Yes']['passing_quote']\n",
    "losers = data[data['winner'] == 'No']['passing_quote']\n",
    "\n",
    "stat_winners, p_winners = shapiro(winners)\n",
    "stat_losers, p_losers = shapiro(losers)\n",
    "\n",
    "print(f\"Shapiro-Wilk Test for Winners: p-value = {p_winners}\")\n",
    "print(f\"Shapiro-Wilk Test for Losers: p-value = {p_losers}\")\n",
    "\n",
    "if p_winners > 0.05 and p_losers > 0.05: \n",
    "    stat, p_value = ttest_ind(winners, losers, alternative='greater')\n",
    "    test_type = \"Two-Sample t-Test\"\n",
    "else: \n",
    "    stat, p_value = mannwhitneyu(winners, losers, alternative='greater')\n",
    "    test_type = \"Mann-Whitney U-Test\"\n",
    "\n",
    "print(f\"{test_type} Result: Statistic = {stat}, p-value = {p_value}\")\n",
    "if p_value < 0.05:\n",
    "    print(\"Reject the null hypothesis: Winners have a higher passing rate.\")\n",
    "else:\n",
    "    print(\"Fail to reject the null hypothesis: No evidence that winners have a higher passing rate.\")\n"
   ]
  },
  {
   "cell_type": "markdown",
   "metadata": {},
   "source": [
    "### QUestion 2 Hypothesis"
   ]
  },
  {
   "cell_type": "code",
   "execution_count": 18,
   "metadata": {},
   "outputs": [
    {
     "name": "stdout",
     "output_type": "stream",
     "text": [
      "Shapiro-Wilk Test for Winner Differences: p-value = 0.16984067910424117\n",
      "Shapiro-Wilk Test for Draw Differences: p-value = 1.0\n",
      "Two-Sample t-Test Result: Statistic = 1.1294564267318246, p-value = 0.2605083055936165\n",
      "Fail to reject the null hypothesis: No evidence of a significant difference in passing rates.\n"
     ]
    }
   ],
   "source": [
    "from scipy.stats import ttest_ind, mannwhitneyu, shapiro\n",
    "\n",
    "grouped_data = data.groupby([\"game_id\", \"winner\"])[\"passing_quote\"].mean().unstack()\n",
    "grouped_data[\"difference\"] = grouped_data[\"Yes\"] - grouped_data[\"No\"]\n",
    "\n",
    "games_with_winner = grouped_data.dropna(subset=[\"difference\"])[\"difference\"] \n",
    "games_with_draw = grouped_data[grouped_data[\"difference\"].isnull()] \n",
    "games_with_draw[\"difference\"] = 0 \n",
    "\n",
    "\n",
    "winner_differences = games_with_winner.values\n",
    "draw_differences = games_with_draw[\"difference\"].values\n",
    "\n",
    "stat_winner, p_winner = shapiro(winner_differences)\n",
    "stat_draw, p_draw = shapiro(draw_differences)\n",
    "\n",
    "print(f\"Shapiro-Wilk Test for Winner Differences: p-value = {p_winner}\")\n",
    "print(f\"Shapiro-Wilk Test for Draw Differences: p-value = {p_draw}\")\n",
    "\n",
    "if p_winner > 0.05 and p_draw > 0.05:  \n",
    "    stat, p_value = ttest_ind(winner_differences, draw_differences, alternative='two-sided')\n",
    "    test_type = \"Two-Sample t-Test\"\n",
    "else: \n",
    "    stat, p_value = mannwhitneyu(winner_differences, draw_differences, alternative='two-sided')\n",
    "    test_type = \"Mann-Whitney U-Test\"\n",
    "\n",
    "print(f\"{test_type} Result: Statistic = {stat}, p-value = {p_value}\")\n",
    "if p_value < 0.05:\n",
    "    print(\"Reject the null hypothesis: The differences in passing rates are significantly different.\")\n",
    "else:\n",
    "    print(\"Fail to reject the null hypothesis: No evidence of a significant difference in passing rates.\")\n"
   ]
  },
  {
   "cell_type": "code",
   "execution_count": null,
   "metadata": {},
   "outputs": [],
   "source": []
  }
 ],
 "metadata": {
  "kernelspec": {
   "display_name": "soccer_env",
   "language": "python",
   "name": "python3"
  },
  "language_info": {
   "codemirror_mode": {
    "name": "ipython",
    "version": 3
   },
   "file_extension": ".py",
   "mimetype": "text/x-python",
   "name": "python",
   "nbconvert_exporter": "python",
   "pygments_lexer": "ipython3",
   "version": "3.12.8"
  }
 },
 "nbformat": 4,
 "nbformat_minor": 2
}
